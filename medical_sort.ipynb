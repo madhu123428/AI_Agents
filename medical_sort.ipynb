{
  "nbformat": 4,
  "nbformat_minor": 0,
  "metadata": {
    "colab": {
      "provenance": [],
      "authorship_tag": "ABX9TyMLvPu36iKFgOXe34nmIV1w",
      "include_colab_link": true
    },
    "kernelspec": {
      "name": "python3",
      "display_name": "Python 3"
    },
    "language_info": {
      "name": "python"
    }
  },
  "cells": [
    {
      "cell_type": "markdown",
      "metadata": {
        "id": "view-in-github",
        "colab_type": "text"
      },
      "source": [
        "<a href=\"https://colab.research.google.com/github/madhu123428/AI_Agents/blob/main/medical_sort.ipynb\" target=\"_parent\"><img src=\"https://colab.research.google.com/assets/colab-badge.svg\" alt=\"Open In Colab\"/></a>"
      ]
    },
    {
      "cell_type": "markdown",
      "source": [
        "STEP 0:Install Dependencies\n"
      ],
      "metadata": {
        "id": "FCfpDZ-KSbMw"
      }
    },
    {
      "cell_type": "code",
      "source": [
        "!pip install -qU google-generativeai==0.8.5 google-ai-generativelanguage==0.6.15 \\\n",
        "langgraph langchain langchain-google-genai openai"
      ],
      "metadata": {
        "id": "j3eQzPwyUPdy"
      },
      "execution_count": null,
      "outputs": []
    },
    {
      "cell_type": "markdown",
      "source": [
        "STEP 1:Imports and secure API key input"
      ],
      "metadata": {
        "id": "p8C783HyW0TM"
      }
    },
    {
      "cell_type": "code",
      "source": [
        "import os\n",
        "import getpass\n",
        "from langgraph.graph import StateGraph,END\n",
        "from langchain_google_genai import ChatGoogleGenerativeAI\n",
        "from langchain_core.messages import HumanMessage"
      ],
      "metadata": {
        "id": "oJ2eouByWv08"
      },
      "execution_count": null,
      "outputs": []
    },
    {
      "cell_type": "markdown",
      "source": [
        "Secure Gemini API key input"
      ],
      "metadata": {
        "id": "411nAjHBYqaX"
      }
    },
    {
      "cell_type": "code",
      "source": [
        "os.environ['GOOGLE_API_KEY']=getpass.getpass(\"Enter the Gemini API key\")"
      ],
      "metadata": {
        "colab": {
          "base_uri": "https://localhost:8080/"
        },
        "id": "0j6lC9y7YiS_",
        "outputId": "45d57eda-a70d-458c-fb10-d2a559203544"
      },
      "execution_count": null,
      "outputs": [
        {
          "name": "stdout",
          "output_type": "stream",
          "text": [
            "Enter the Gemini API key··········\n"
          ]
        }
      ]
    },
    {
      "cell_type": "markdown",
      "source": [
        "STEP 2:Initialize Gemini 1.5 Flash"
      ],
      "metadata": {
        "id": "Wgxq6ANLg6n5"
      }
    },
    {
      "cell_type": "code",
      "source": [
        "llm=ChatGoogleGenerativeAI(model=\"models/gemini-1.5-flash-latest\",temperature=0.2)"
      ],
      "metadata": {
        "id": "b4si9a0IZW1a"
      },
      "execution_count": null,
      "outputs": []
    },
    {
      "cell_type": "markdown",
      "source": [
        "STEP 3:Node to ask user for symptom"
      ],
      "metadata": {
        "id": "6BL0b8VNhn9D"
      }
    },
    {
      "cell_type": "code",
      "source": [
        "def get_symptom(state: dict)->dict:\n",
        "  symptom=input(\"welcome to XYZ Hospital,Please enter your symptoms\")\n",
        "  state[\"symptom\"]=symptom\n",
        "  return state"
      ],
      "metadata": {
        "id": "8oCBIvrkhmjX"
      },
      "execution_count": null,
      "outputs": []
    },
    {
      "cell_type": "markdown",
      "source": [
        "STEP 4:Node to classify the symptom"
      ],
      "metadata": {
        "id": "CMbAUp2Ui5GC"
      }
    },
    {
      "cell_type": "code",
      "source": [
        "def classify_symptom(state:dict)->dict:\n",
        "  prompt=(\n",
        "      \"You are helpful Medical Assistant,Classify the symptoms into one of the categories \\n\"\n",
        "      \"-General\\n -Emergency\\n -Mental Health\\n\"\n",
        "      f\"symptom:{state['symptom']} \\n\"\n",
        "      \"Respond only with one word: General,Emergency,Mental Health\"\n",
        "      \"#Example:input:I have fever,output:General\"\n",
        "  )\n",
        "  response=llm.invoke([HumanMessage(content=prompt)])\n",
        "  category=response.content.strip()\n",
        "  print(f\"LLM classifies the symptom as{category}\")  #debug\n",
        "  state[\"category\"]=category\n",
        "  return state"
      ],
      "metadata": {
        "id": "YYfxWs1OiyVx"
      },
      "execution_count": null,
      "outputs": []
    },
    {
      "cell_type": "markdown",
      "source": [
        "STEP 5:Router logic to route to the correct Node"
      ],
      "metadata": {
        "id": "qnjGU24WlXMJ"
      }
    },
    {
      "cell_type": "code",
      "source": [
        "def symptom_router(state: dict)->dict:\n",
        "  cat=state[\"category\"].lower()\n",
        "  if \"general\" in cat:\n",
        "    return \"general\"\n",
        "  elif \"emergency\" in cat:\n",
        "    return \"emergency\"\n",
        "  elif \"mental health\" in cat:\n",
        "    return \"mental_health\"\n",
        "  else:\n",
        "    return \"general\""
      ],
      "metadata": {
        "id": "u-qk7IOvk8XF"
      },
      "execution_count": null,
      "outputs": []
    },
    {
      "cell_type": "markdown",
      "source": [
        "STEP 6:Category-specific response nodes"
      ],
      "metadata": {
        "id": "0iAddR4BnMkq"
      }
    },
    {
      "cell_type": "code",
      "source": [
        "def general_node(state: dict)->dict:\n",
        "  state[\"answer\"]=f\" '{state['symptom']}' :seems general:directing you to general ward for consulting a doctor\"\n",
        "  return state\n",
        "def emergency_node(state: dict)->dict:\n",
        "  state[\"answer\"]=f\" '{state['symptom']}' :It seems medical emergency:seeking immediate help\"\n",
        "  return state\n",
        "def mental_health_node(state: dict)->dict:\n",
        "  state[\"answer\"]=f\" '{state['symptom']}' :It seems like a mental health issue:talk to our counsellor\"\n",
        "  return state"
      ],
      "metadata": {
        "id": "KS713ULlnLPa"
      },
      "execution_count": null,
      "outputs": []
    },
    {
      "cell_type": "markdown",
      "source": [
        "STEP 7:Build Langgraph"
      ],
      "metadata": {
        "id": "I2G1EleYooJT"
      }
    },
    {
      "cell_type": "code",
      "source": [
        "builder=StateGraph(dict)\n",
        "\n",
        "builder.set_entry_point(\"get_symptom\")\n",
        "builder.add_node(\"get_symptom\",get_symptom)\n",
        "builder.add_node(\"classify\",classify_symptom)\n",
        "builder.add_node(\"general\",general_node)\n",
        "builder.add_node(\"emergency\",emergency_node)\n",
        "builder.add_node(\"mental_health\",mental_health_node)\n",
        "\n",
        "builder.add_edge(\"get_symptom\",\"classify\")\n",
        "builder.add_conditional_edges(\"classify\",symptom_router,{\n",
        "    \"general\":\"general\",\n",
        "    \"emergency\":\"emergency\",\n",
        "    \"mental_health\":\"mental_health\"\n",
        "})\n",
        "\n",
        "builder.add_edge(\"general\",END)\n",
        "builder.add_edge(\"emergency\",END)\n",
        "builder.add_edge(\"mental_health\",END)\n",
        "\n"
      ],
      "metadata": {
        "colab": {
          "base_uri": "https://localhost:8080/"
        },
        "id": "OhrSv41Uonj3",
        "outputId": "bd29e8b7-6959-45cf-9d6a-8ce223413356"
      },
      "execution_count": null,
      "outputs": [
        {
          "output_type": "execute_result",
          "data": {
            "text/plain": [
              "<langgraph.graph.state.StateGraph at 0x7a4d9480da90>"
            ]
          },
          "metadata": {},
          "execution_count": 20
        }
      ]
    },
    {
      "cell_type": "markdown",
      "source": [
        "STEP 8:Compile and Invoke Graph"
      ],
      "metadata": {
        "id": "bgz47ZJhreEL"
      }
    },
    {
      "cell_type": "code",
      "source": [
        "graph=builder.compile()\n",
        "final_state=graph.invoke({})\n",
        "print(\"final output\\n\")\n",
        "print(final_state[\"answer\"])"
      ],
      "metadata": {
        "colab": {
          "base_uri": "https://localhost:8080/"
        },
        "id": "fddwh6MUrB0t",
        "outputId": "7c692fbc-7929-4624-df5e-abc6697cf123"
      },
      "execution_count": null,
      "outputs": [
        {
          "output_type": "stream",
          "name": "stdout",
          "text": [
            "welcome to XYZ Hospital,Please enter your symptoms i have high fever\n",
            "LLM classifies the symptom asEmergency\n",
            "final output\n",
            "\n",
            " ' i have high fever' :It seems medical emergency:seeking immediate help\n"
          ]
        }
      ]
    },
    {
      "cell_type": "code",
      "source": [],
      "metadata": {
        "id": "aiSEYnNMu3Aq"
      },
      "execution_count": null,
      "outputs": []
    }
  ]
}